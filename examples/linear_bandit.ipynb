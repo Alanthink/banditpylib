{
 "cells": [
  {
   "cell_type": "code",
   "execution_count": 1,
   "metadata": {
    "id": "HGDOzfXRtav4"
   },
   "outputs": [],
   "source": [
    "import matplotlib.pyplot as plt\n",
    "import numpy as np\n",
    "import tempfile\n",
    "import seaborn as sns\n",
    "sns.set(style=\"darkgrid\")\n",
    "\n",
    "import logging\n",
    "logging.getLogger().setLevel(logging.INFO)\n",
    "\n",
    "from banditpylib import trials_to_dataframe\n",
    "from banditpylib.bandits import LinearBandit\n",
    "from banditpylib.arms import GaussianArm\n",
    "from banditpylib.protocols import SinglePlayerProtocol\n",
    "from banditpylib.learners.linear_bandit_learner import LinUCB\n",
    "from banditpylib.learners.mab_learner import UCB"
   ]
  },
  {
   "cell_type": "code",
   "execution_count": 2,
   "metadata": {
    "id": "hEeg9MS3uWmT"
   },
   "outputs": [],
   "source": [
    "num_arms = 100\n",
    "horizon = 2000\n",
    "delta = 1 / horizon\n",
    "lambda_reg = 1e-3"
   ]
  },
  {
   "cell_type": "code",
   "execution_count": 3,
   "metadata": {
    "id": "NNorEU6Cul2U"
   },
   "outputs": [],
   "source": [
    "features = [np.random.normal(0, size=5) for _ in range(num_arms)]\n",
    "for i in range(len(features)):\n",
    "  features[i] = features[i] / np.linalg.norm(features[i])\n",
    "\n",
    "theta = np.random.normal(0, size=5)"
   ]
  },
  {
   "cell_type": "code",
   "execution_count": 4,
   "metadata": {
    "id": "d8AHoSwTxCOl"
   },
   "outputs": [],
   "source": [
    "bandit = LinearBandit(features, theta)\n",
    "learners = [LinUCB(features, delta, lambda_reg), UCB(num_arms)]"
   ]
  },
  {
   "cell_type": "code",
   "execution_count": 5,
   "metadata": {
    "id": "DshtU4B-xyUg"
   },
   "outputs": [],
   "source": [
    "intermediate_horizons = list(range(0, horizon+1, 50))\n",
    "temp_file = tempfile.NamedTemporaryFile()"
   ]
  },
  {
   "cell_type": "code",
   "execution_count": 6,
   "metadata": {
    "id": "jkYe4BeCx1zV"
   },
   "outputs": [],
   "source": [
    "game = SinglePlayerProtocol(bandit, learners)"
   ]
  },
  {
   "cell_type": "code",
   "execution_count": 7,
   "metadata": {
    "id": "xYrdAnGlx_2v"
   },
   "outputs": [
    {
     "name": "stderr",
     "output_type": "stream",
     "text": [
      "INFO:absl:start linucb's play with linear_bandit\n",
      "INFO:absl:linucb's play with linear_bandit runs 32.66 seconds.\n",
      "INFO:absl:start ucb's play with linear_bandit\n",
      "INFO:absl:ucb's play with linear_bandit runs 48.30 seconds.\n"
     ]
    }
   ],
   "source": [
    "game.play(200, temp_file.name, intermediate_horizons=intermediate_horizons, horizon=horizon)"
   ]
  },
  {
   "cell_type": "code",
   "execution_count": 8,
   "metadata": {
    "id": "O26X5G-ayO8n"
   },
   "outputs": [],
   "source": [
    "trials_df = trials_to_dataframe(temp_file.name)"
   ]
  },
  {
   "cell_type": "code",
   "execution_count": 9,
   "metadata": {},
   "outputs": [
    {
     "data": {
      "text/html": [
       "<div>\n",
       "<style scoped>\n",
       "    .dataframe tbody tr th:only-of-type {\n",
       "        vertical-align: middle;\n",
       "    }\n",
       "\n",
       "    .dataframe tbody tr th {\n",
       "        vertical-align: top;\n",
       "    }\n",
       "\n",
       "    .dataframe thead th {\n",
       "        text-align: right;\n",
       "    }\n",
       "</style>\n",
       "<table border=\"1\" class=\"dataframe\">\n",
       "  <thead>\n",
       "    <tr style=\"text-align: right;\">\n",
       "      <th></th>\n",
       "      <th>rounds</th>\n",
       "      <th>total_actions</th>\n",
       "      <th>regret</th>\n",
       "      <th>other</th>\n",
       "      <th>bandit</th>\n",
       "      <th>learner</th>\n",
       "    </tr>\n",
       "  </thead>\n",
       "  <tbody>\n",
       "    <tr>\n",
       "      <th>0</th>\n",
       "      <td>0</td>\n",
       "      <td>0</td>\n",
       "      <td>0.000000</td>\n",
       "      <td>0.0</td>\n",
       "      <td>linear_bandit</td>\n",
       "      <td>linucb</td>\n",
       "    </tr>\n",
       "    <tr>\n",
       "      <th>1</th>\n",
       "      <td>50</td>\n",
       "      <td>50</td>\n",
       "      <td>52.181046</td>\n",
       "      <td>0.0</td>\n",
       "      <td>linear_bandit</td>\n",
       "      <td>linucb</td>\n",
       "    </tr>\n",
       "    <tr>\n",
       "      <th>2</th>\n",
       "      <td>100</td>\n",
       "      <td>100</td>\n",
       "      <td>77.449490</td>\n",
       "      <td>0.0</td>\n",
       "      <td>linear_bandit</td>\n",
       "      <td>linucb</td>\n",
       "    </tr>\n",
       "    <tr>\n",
       "      <th>3</th>\n",
       "      <td>150</td>\n",
       "      <td>150</td>\n",
       "      <td>99.109310</td>\n",
       "      <td>0.0</td>\n",
       "      <td>linear_bandit</td>\n",
       "      <td>linucb</td>\n",
       "    </tr>\n",
       "    <tr>\n",
       "      <th>4</th>\n",
       "      <td>200</td>\n",
       "      <td>200</td>\n",
       "      <td>115.563660</td>\n",
       "      <td>0.0</td>\n",
       "      <td>linear_bandit</td>\n",
       "      <td>linucb</td>\n",
       "    </tr>\n",
       "  </tbody>\n",
       "</table>\n",
       "</div>"
      ],
      "text/plain": [
       "   rounds  total_actions      regret  other         bandit learner\n",
       "0       0              0    0.000000    0.0  linear_bandit  linucb\n",
       "1      50             50   52.181046    0.0  linear_bandit  linucb\n",
       "2     100            100   77.449490    0.0  linear_bandit  linucb\n",
       "3     150            150   99.109310    0.0  linear_bandit  linucb\n",
       "4     200            200  115.563660    0.0  linear_bandit  linucb"
      ]
     },
     "execution_count": 9,
     "metadata": {},
     "output_type": "execute_result"
    }
   ],
   "source": [
    "trials_df.head()"
   ]
  },
  {
   "cell_type": "code",
   "execution_count": 10,
   "metadata": {
    "colab": {
     "base_uri": "https://localhost:8080/",
     "height": 285
    },
    "id": "JYsG0GdXyYiU",
    "outputId": "0b079777-ff08-4400-fb40-ab48a74651f6"
   },
   "outputs": [
    {
     "data": {
      "image/png": "[encoded data removed]",
      "text/plain": [
       "<Figure size 432x288 with 1 Axes>"
      ]
     },
     "metadata": {},
     "output_type": "display_data"
    }
   ],
   "source": [
    "sns.lineplot(x='total_actions', y='regret', hue='learner', data=trials_df)\n",
    "plt.show()"
   ]
  }
 ],
 "metadata": {
  "colab": {
   "collapsed_sections": [],
   "name": "example_LinUCB.ipynb",
   "provenance": [],
   "toc_visible": true
  },
  "kernelspec": {
   "display_name": "Python 3",
   "language": "python",
   "name": "python3"
  },
  "language_info": {
   "codemirror_mode": {
    "name": "ipython",
    "version": 3
   },
   "file_extension": ".py",
   "mimetype": "text/x-python",
   "name": "python",
   "nbconvert_exporter": "python",
   "pygments_lexer": "ipython3",
   "version": "3.8.2"
  }
 },
 "nbformat": 4,
 "nbformat_minor": 1
}
