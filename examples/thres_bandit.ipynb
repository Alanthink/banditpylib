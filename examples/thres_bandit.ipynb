{
 "cells": [
  {
   "cell_type": "code",
   "execution_count": 5,
   "metadata": {},
   "outputs": [],
   "source": [
    "import numpy as np\n",
    "import pandas as pd\n",
    "import tempfile\n",
    "import json\n",
    "import matplotlib.pyplot as plt\n",
    "import seaborn as sns\n",
    "sns.set(style=\"darkgrid\")\n",
    "\n",
    "import warnings\n",
    "warnings.simplefilter('ignore')\n",
    "import logging\n",
    "logging.basicConfig()\n",
    "logger = logging.getLogger()\n",
    "logger.setLevel(logging.INFO)\n",
    "\n",
    "from banditpylib.arms import BernoulliArm\n",
    "from banditpylib.bandits import ThresholdingBandit\n",
    "from banditpylib.protocols import SinglePlayerProtocol\n",
    "from banditpylib.learners.thres_bandit_learners import APT, Uniform, OPT_KG"
   ]
  },
  {
   "cell_type": "code",
   "execution_count": 18,
   "metadata": {},
   "outputs": [],
   "source": [
    "def play_game(means, budget, eps=0, trials=2):\n",
    "  arms = [BernoulliArm(mean) for mean in means]\n",
    "  theta = 0.5\n",
    "  bandit = ThresholdingBandit(arms=arms, theta=theta, eps=eps)\n",
    "  learners = [OPT_KG(arm_num=len(arms), budget=budget)]\n",
    "              #APT(arm_num=len(arms), budget=budget, theta=theta, eps=eps), \n",
    "              #Uniform(arm_num=len(arms), budget=budget, theta=theta, eps=eps)]\n",
    "  gap = 100\n",
    "  # record intermediate regrets for each trial of a game\n",
    "  intermediate_regrets = list(range(0, budget+1, gap))[1:]\n",
    "  temp_file = tempfile.NamedTemporaryFile()\n",
    "  \n",
    "  # simulator\n",
    "  game = SinglePlayerProtocol(bandit=bandit, learners=learners, intermediate_regrets=intermediate_regrets)\n",
    "  # start playing the game\n",
    "  # add `debug=True` for debugging purpose\n",
    "  game.play(trials=trials, output_filename=temp_file.name)\n",
    "  \n",
    "  with open(temp_file.name, 'r') as f:\n",
    "    data = []\n",
    "    lines = f.readlines()\n",
    "    for line in lines:\n",
    "      data.append(json.loads(line))\n",
    "    data_df = pd.DataFrame.from_dict(data)\n",
    "  \n",
    "  data_df = data_df.groupby(['learner', 'total_actions'])['regret'].mean().reset_index()\n",
    "  data_df['regret'] = np.log(data_df['regret'])\n",
    "  data_df = data_df.replace(float('nan'), 0)\n",
    "  data_df.head()\n",
    "  \n",
    "  sns.lineplot(x='total_actions', y='regret', hue='learner', data=data_df)"
   ]
  },
  {
   "cell_type": "code",
   "execution_count": 19,
   "metadata": {},
   "outputs": [
    {
     "name": "stderr",
     "output_type": "stream",
     "text": [
      "INFO:absl:start opt-kg's play with thresholding_bandit\n",
      "INFO:absl:opt-kg's play with thresholding_bandit runs 0.26 seconds.\n"
     ]
    },
    {
     "data": {
      "image/png": "[encoded data removed]",
      "text/plain": [
       "<Figure size 432x288 with 1 Axes>"
      ]
     },
     "metadata": {},
     "output_type": "display_data"
    }
   ],
   "source": [
    "means=[0.1, 0.1, 0.1, 0.35, 0.45, 0.55, 0.65, 0.9, 0.9, 0.9]\n",
    "play_game(means, 500)"
   ]
  },
  {
   "cell_type": "code",
   "execution_count": null,
   "metadata": {},
   "outputs": [],
   "source": []
  }
 ],
 "metadata": {
  "kernelspec": {
   "display_name": "Python 3",
   "language": "python",
   "name": "python3"
  },
  "language_info": {
   "codemirror_mode": {
    "name": "ipython",
    "version": 3
   },
   "file_extension": ".py",
   "mimetype": "text/x-python",
   "name": "python",
   "nbconvert_exporter": "python",
   "pygments_lexer": "ipython3",
   "version": "3.8.3"
  }
 },
 "nbformat": 4,
 "nbformat_minor": 4
}
