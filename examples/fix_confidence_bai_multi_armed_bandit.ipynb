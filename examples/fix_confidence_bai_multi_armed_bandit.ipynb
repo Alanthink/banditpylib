{
 "cells": [
  {
   "cell_type": "code",
   "execution_count": 1,
   "metadata": {},
   "outputs": [],
   "source": [
    "import numpy as np\n",
    "import pandas as pd\n",
    "import tempfile\n",
    "import json\n",
    "import matplotlib.pyplot as plt\n",
    "import seaborn as sns\n",
    "sns.set(style=\"darkgrid\")\n",
    "\n",
    "import warnings\n",
    "warnings.simplefilter('ignore')\n",
    "import logging\n",
    "logging.basicConfig()\n",
    "logger = logging.getLogger()\n",
    "logger.setLevel(logging.INFO)\n",
    "\n",
    "from banditpylib import trials_to_dataframe\n",
    "from banditpylib.arms import GaussianArm\n",
    "from banditpylib.bandits import MultiArmedBandit\n",
    "from banditpylib.protocols import SinglePlayerProtocol\n",
    "from banditpylib.learners.mab_fcbai_learner import ExpGap, LilUCBHeuristic"
   ]
  },
  {
   "cell_type": "code",
   "execution_count": 2,
   "metadata": {},
   "outputs": [],
   "source": [
    "confidence = 0.95\n",
    "means = [0.3, 0.5, 0.7]\n",
    "arms = [GaussianArm(mu=mean, std=1) for mean in means]\n",
    "bandit = MultiArmedBandit(arms=arms)\n",
    "learners = [ExpGap(arm_num=len(arms), confidence=confidence, threshold=3, name='Exponential-Gap Elimination'),\n",
    "            LilUCBHeuristic(arm_num=len(arms), confidence=confidence, name='Heuristic lilUCB')]\n",
    "# for each setup we run 20 trials\n",
    "trials = 20\n",
    "temp_file = tempfile.NamedTemporaryFile()"
   ]
  },
  {
   "cell_type": "code",
   "execution_count": 3,
   "metadata": {},
   "outputs": [
    {
     "name": "stderr",
     "output_type": "stream",
     "text": [
      "INFO:absl:start Exponential-Gap Elimination's play with multi_armed_bandit\n",
      "INFO:absl:Exponential-Gap Elimination's play with multi_armed_bandit runs 1.05 seconds.\n",
      "INFO:absl:start Heuristic lilUCB's play with multi_armed_bandit\n",
      "INFO:absl:Heuristic lilUCB's play with multi_armed_bandit runs 1.67 seconds.\n"
     ]
    }
   ],
   "source": [
    "# simulator\n",
    "game = SinglePlayerProtocol(bandit=bandit, learners=learners)\n",
    "# start playing the game\n",
    "# add `debug=True` for debugging purpose\n",
    "game.play(trials=trials, output_filename=temp_file.name)"
   ]
  },
  {
   "cell_type": "code",
   "execution_count": 4,
   "metadata": {},
   "outputs": [],
   "source": [
    "trials_df = trials_to_dataframe(temp_file.name)\n",
    "del trials_df['other']"
   ]
  },
  {
   "cell_type": "code",
   "execution_count": 5,
   "metadata": {},
   "outputs": [
    {
     "data": {
      "text/html": [
       "<div>\n",
       "<style scoped>\n",
       "    .dataframe tbody tr th:only-of-type {\n",
       "        vertical-align: middle;\n",
       "    }\n",
       "\n",
       "    .dataframe tbody tr th {\n",
       "        vertical-align: top;\n",
       "    }\n",
       "\n",
       "    .dataframe thead th {\n",
       "        text-align: right;\n",
       "    }\n",
       "</style>\n",
       "<table border=\"1\" class=\"dataframe\">\n",
       "  <thead>\n",
       "    <tr style=\"text-align: right;\">\n",
       "      <th></th>\n",
       "      <th>rounds</th>\n",
       "      <th>total_actions</th>\n",
       "      <th>regret</th>\n",
       "      <th>bandit</th>\n",
       "      <th>learner</th>\n",
       "    </tr>\n",
       "  </thead>\n",
       "  <tbody>\n",
       "    <tr>\n",
       "      <th>0</th>\n",
       "      <td>2</td>\n",
       "      <td>5418</td>\n",
       "      <td>0.0</td>\n",
       "      <td>multi_armed_bandit</td>\n",
       "      <td>Exponential-Gap Elimination</td>\n",
       "    </tr>\n",
       "    <tr>\n",
       "      <th>1</th>\n",
       "      <td>2</td>\n",
       "      <td>5418</td>\n",
       "      <td>0.0</td>\n",
       "      <td>multi_armed_bandit</td>\n",
       "      <td>Exponential-Gap Elimination</td>\n",
       "    </tr>\n",
       "    <tr>\n",
       "      <th>2</th>\n",
       "      <td>2</td>\n",
       "      <td>5418</td>\n",
       "      <td>0.0</td>\n",
       "      <td>multi_armed_bandit</td>\n",
       "      <td>Exponential-Gap Elimination</td>\n",
       "    </tr>\n",
       "    <tr>\n",
       "      <th>3</th>\n",
       "      <td>2</td>\n",
       "      <td>5418</td>\n",
       "      <td>0.0</td>\n",
       "      <td>multi_armed_bandit</td>\n",
       "      <td>Exponential-Gap Elimination</td>\n",
       "    </tr>\n",
       "    <tr>\n",
       "      <th>4</th>\n",
       "      <td>2</td>\n",
       "      <td>5418</td>\n",
       "      <td>0.0</td>\n",
       "      <td>multi_armed_bandit</td>\n",
       "      <td>Exponential-Gap Elimination</td>\n",
       "    </tr>\n",
       "  </tbody>\n",
       "</table>\n",
       "</div>"
      ],
      "text/plain": [
       "   rounds  total_actions  regret              bandit  \\\n",
       "0       2           5418     0.0  multi_armed_bandit   \n",
       "1       2           5418     0.0  multi_armed_bandit   \n",
       "2       2           5418     0.0  multi_armed_bandit   \n",
       "3       2           5418     0.0  multi_armed_bandit   \n",
       "4       2           5418     0.0  multi_armed_bandit   \n",
       "\n",
       "                       learner  \n",
       "0  Exponential-Gap Elimination  \n",
       "1  Exponential-Gap Elimination  \n",
       "2  Exponential-Gap Elimination  \n",
       "3  Exponential-Gap Elimination  \n",
       "4  Exponential-Gap Elimination  "
      ]
     },
     "execution_count": 5,
     "metadata": {},
     "output_type": "execute_result"
    }
   ],
   "source": [
    "trials_df.head()"
   ]
  },
  {
   "cell_type": "code",
   "execution_count": 6,
   "metadata": {},
   "outputs": [],
   "source": [
    "trials_df['confidence'] = confidence"
   ]
  },
  {
   "cell_type": "code",
   "execution_count": 7,
   "metadata": {},
   "outputs": [
    {
     "data": {
      "text/plain": [
       "<matplotlib.legend.Legend at 0x7ff2cbd9c460>"
      ]
     },
     "execution_count": 7,
     "metadata": {},
     "output_type": "execute_result"
    },
    {
     "data": {
      "image/png": "[encoded data removed]",
      "text/plain": [
       "<Figure size 432x288 with 1 Axes>"
      ]
     },
     "metadata": {},
     "output_type": "display_data"
    }
   ],
   "source": [
    "fig = plt.figure()\n",
    "ax = plt.subplot(111)\n",
    "sns.barplot(x='confidence', y='total_actions', hue='learner', data=trials_df)\n",
    "plt.ylabel('pulls')\n",
    "ax.legend(loc='center left', bbox_to_anchor=(1, 0.5))"
   ]
  },
  {
   "cell_type": "code",
   "execution_count": null,
   "metadata": {},
   "outputs": [],
   "source": []
  }
 ],
 "metadata": {
  "kernelspec": {
   "display_name": "Python 3",
   "language": "python",
   "name": "python3"
  },
  "language_info": {
   "codemirror_mode": {
    "name": "ipython",
    "version": 3
   },
   "file_extension": ".py",
   "mimetype": "text/x-python",
   "name": "python",
   "nbconvert_exporter": "python",
   "pygments_lexer": "ipython3",
   "version": "3.9.1"
  }
 },
 "nbformat": 4,
 "nbformat_minor": 2
}
