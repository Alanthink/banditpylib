{
 "cells": [
  {
   "cell_type": "code",
   "execution_count": 1,
   "metadata": {},
   "outputs": [],
   "source": [
    "import numpy as np\n",
    "import pandas as pd\n",
    "import tempfile\n",
    "import json\n",
    "import matplotlib.pyplot as plt\n",
    "import seaborn as sns\n",
    "sns.set(style=\"darkgrid\")\n",
    "\n",
    "import warnings\n",
    "warnings.simplefilter('ignore')\n",
    "import logging\n",
    "logging.basicConfig()\n",
    "logger = logging.getLogger()\n",
    "logger.setLevel(logging.INFO)\n",
    "\n",
    "from banditpylib.arms import GaussianArm\n",
    "from banditpylib.bandits import OrdinaryBandit\n",
    "from banditpylib.protocols import SinglePlayerProtocol, trial_data_messages_to_dict\n",
    "from banditpylib.learners.ordinary_fcbai_learner import ExpGap, LilUCBHeuristic"
   ]
  },
  {
   "cell_type": "code",
   "execution_count": 2,
   "metadata": {},
   "outputs": [],
   "source": [
    "confidence = 0.95\n",
    "means = [0.3, 0.5, 0.7]\n",
    "arms = [GaussianArm(mu=mean, var=1) for mean in means]\n",
    "bandit = OrdinaryBandit(arms=arms, name='Ordinary MAB')\n",
    "learners = [ExpGap(arm_num=len(arms), confidence=confidence, threshold=3, name='Exponential-Gap Elimination'),\n",
    "            LilUCBHeuristic(arm_num=len(arms), confidence=confidence, name='Heuristic lilUCB')]\n",
    "# for each setup we run 20 trials\n",
    "trials = 20\n",
    "temp_file = tempfile.NamedTemporaryFile()"
   ]
  },
  {
   "cell_type": "code",
   "execution_count": 3,
   "metadata": {},
   "outputs": [
    {
     "name": "stderr",
     "output_type": "stream",
     "text": [
      "INFO:absl:start Exponential-Gap Elimination's play with Ordinary MAB\n",
      "INFO:absl:Exponential-Gap Elimination's play with Ordinary MAB runs 0.17 seconds.\n",
      "INFO:absl:start Heuristic lilUCB's play with Ordinary MAB\n",
      "INFO:absl:Heuristic lilUCB's play with Ordinary MAB runs 0.87 seconds.\n"
     ]
    }
   ],
   "source": [
    "# simulator\n",
    "game = SinglePlayerProtocol(bandit=bandit, learners=learners)\n",
    "# start playing the game\n",
    "# add `debug=True` for debugging purpose\n",
    "game.play(trials=trials, output_filename=temp_file.name)"
   ]
  },
  {
   "cell_type": "code",
   "execution_count": 4,
   "metadata": {},
   "outputs": [],
   "source": [
    "data_df = trial_data_messages_to_dict(temp_file.name)"
   ]
  },
  {
   "cell_type": "code",
   "execution_count": 5,
   "metadata": {},
   "outputs": [
    {
     "data": {
      "text/html": [
       "<div>\n",
       "<style scoped>\n",
       "    .dataframe tbody tr th:only-of-type {\n",
       "        vertical-align: middle;\n",
       "    }\n",
       "\n",
       "    .dataframe tbody tr th {\n",
       "        vertical-align: top;\n",
       "    }\n",
       "\n",
       "    .dataframe thead th {\n",
       "        text-align: right;\n",
       "    }\n",
       "</style>\n",
       "<table border=\"1\" class=\"dataframe\">\n",
       "  <thead>\n",
       "    <tr style=\"text-align: right;\">\n",
       "      <th></th>\n",
       "      <th>bandit</th>\n",
       "      <th>learner</th>\n",
       "      <th>rounds</th>\n",
       "      <th>total_actions</th>\n",
       "      <th>regret</th>\n",
       "    </tr>\n",
       "  </thead>\n",
       "  <tbody>\n",
       "    <tr>\n",
       "      <th>0</th>\n",
       "      <td>Ordinary MAB</td>\n",
       "      <td>Exponential-Gap Elimination</td>\n",
       "      <td>2</td>\n",
       "      <td>5418</td>\n",
       "      <td>0.0</td>\n",
       "    </tr>\n",
       "    <tr>\n",
       "      <th>1</th>\n",
       "      <td>Ordinary MAB</td>\n",
       "      <td>Exponential-Gap Elimination</td>\n",
       "      <td>2</td>\n",
       "      <td>5418</td>\n",
       "      <td>0.0</td>\n",
       "    </tr>\n",
       "    <tr>\n",
       "      <th>2</th>\n",
       "      <td>Ordinary MAB</td>\n",
       "      <td>Exponential-Gap Elimination</td>\n",
       "      <td>2</td>\n",
       "      <td>5418</td>\n",
       "      <td>0.0</td>\n",
       "    </tr>\n",
       "    <tr>\n",
       "      <th>3</th>\n",
       "      <td>Ordinary MAB</td>\n",
       "      <td>Exponential-Gap Elimination</td>\n",
       "      <td>2</td>\n",
       "      <td>5418</td>\n",
       "      <td>0.0</td>\n",
       "    </tr>\n",
       "    <tr>\n",
       "      <th>4</th>\n",
       "      <td>Ordinary MAB</td>\n",
       "      <td>Exponential-Gap Elimination</td>\n",
       "      <td>2</td>\n",
       "      <td>5418</td>\n",
       "      <td>0.0</td>\n",
       "    </tr>\n",
       "  </tbody>\n",
       "</table>\n",
       "</div>"
      ],
      "text/plain": [
       "         bandit                      learner  rounds  total_actions  regret\n",
       "0  Ordinary MAB  Exponential-Gap Elimination       2           5418     0.0\n",
       "1  Ordinary MAB  Exponential-Gap Elimination       2           5418     0.0\n",
       "2  Ordinary MAB  Exponential-Gap Elimination       2           5418     0.0\n",
       "3  Ordinary MAB  Exponential-Gap Elimination       2           5418     0.0\n",
       "4  Ordinary MAB  Exponential-Gap Elimination       2           5418     0.0"
      ]
     },
     "execution_count": 5,
     "metadata": {},
     "output_type": "execute_result"
    }
   ],
   "source": [
    "data_df.head()"
   ]
  },
  {
   "cell_type": "code",
   "execution_count": 6,
   "metadata": {},
   "outputs": [],
   "source": [
    "data_df['confidence'] = confidence"
   ]
  },
  {
   "cell_type": "code",
   "execution_count": 7,
   "metadata": {},
   "outputs": [
    {
     "data": {
      "text/plain": [
       "<matplotlib.legend.Legend at 0x12e1767f0>"
      ]
     },
     "execution_count": 7,
     "metadata": {},
     "output_type": "execute_result"
    },
    {
     "data": {
      "image/png": "[encoded data removed]",
      "text/plain": [
       "<Figure size 432x288 with 1 Axes>"
      ]
     },
     "metadata": {},
     "output_type": "display_data"
    }
   ],
   "source": [
    "fig = plt.figure()\n",
    "ax = plt.subplot(111)\n",
    "sns.barplot(x='confidence', y='total_actions', hue='learner', data=data_df)\n",
    "plt.ylabel('pulls')\n",
    "ax.legend(loc='center left', bbox_to_anchor=(1, 0.5))"
   ]
  },
  {
   "cell_type": "code",
   "execution_count": null,
   "metadata": {},
   "outputs": [],
   "source": []
  }
 ],
 "metadata": {
  "kernelspec": {
   "display_name": ".env",
   "language": "python",
   "name": ".env"
  },
  "language_info": {
   "codemirror_mode": {
    "name": "ipython",
    "version": 3
   },
   "file_extension": ".py",
   "mimetype": "text/x-python",
   "name": "python",
   "nbconvert_exporter": "python",
   "pygments_lexer": "ipython3",
   "version": "3.7.3"
  }
 },
 "nbformat": 4,
 "nbformat_minor": 2
}
