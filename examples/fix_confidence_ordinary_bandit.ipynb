{
 "cells": [
  {
   "cell_type": "code",
   "execution_count": 1,
   "metadata": {},
   "outputs": [],
   "source": [
    "import numpy as np\n",
    "import pandas as pd\n",
    "import tempfile\n",
    "import json\n",
    "import seaborn as sns\n",
    "sns.set(style=\"darkgrid\")\n",
    "\n",
    "import warnings\n",
    "warnings.simplefilter('ignore')\n",
    "import logging\n",
    "logging.basicConfig()\n",
    "logger = logging.getLogger()\n",
    "logger.setLevel(logging.INFO)\n",
    "\n",
    "from banditpylib.arms import BernoulliArm\n",
    "from banditpylib.bandits import OrdinaryBandit\n",
    "from banditpylib.protocols import SinglePlayerProtocol\n",
    "from banditpylib.learners.ordinary_fcbai_learner import ExpGap, LilUCBHeuristic"
   ]
  },
  {
   "cell_type": "code",
   "execution_count": 2,
   "metadata": {},
   "outputs": [],
   "source": [
    "confidence = 0.95\n",
    "means = [0.3, 0.5, 0.7]\n",
    "arms = [BernoulliArm(mean) for mean in means]\n",
    "bandit = OrdinaryBandit(arms=arms)\n",
    "learners = [ExpGap(arm_num=len(arms), confidence=confidence),\n",
    "            LilUCBHeuristic(arm_num=len(arms), confidence=confidence)]\n",
    "# for each setup we run 200 trials\n",
    "trials = 10\n",
    "temp_file = tempfile.NamedTemporaryFile()"
   ]
  },
  {
   "cell_type": "code",
   "execution_count": 3,
   "metadata": {},
   "outputs": [
    {
     "name": "stderr",
     "output_type": "stream",
     "text": [
      "INFO:absl:exp_gap's play with ordinary_bandit runs 0.15 seconds.\n",
      "INFO:absl:lilUCB_heur's play with ordinary_bandit runs 0.86 seconds.\n"
     ]
    }
   ],
   "source": [
    "for learner in learners:\n",
    "  # game simulation\n",
    "  game = SinglePlayerProtocol(bandit=bandit, learner=learner)\n",
    "  game.play(trials=trials, output_filename=temp_file.name, debug=True)"
   ]
  },
  {
   "cell_type": "code",
   "execution_count": 4,
   "metadata": {},
   "outputs": [],
   "source": [
    "with open(temp_file.name, 'r') as f:\n",
    "  data = []\n",
    "  lines = f.readlines()\n",
    "  for line in lines:\n",
    "    data.append(json.loads(line))\n",
    "  data_df = pd.DataFrame.from_dict(data)"
   ]
  },
  {
   "cell_type": "code",
   "execution_count": 5,
   "metadata": {},
   "outputs": [
    {
     "data": {
      "text/html": [
       "<div>\n",
       "<style scoped>\n",
       "    .dataframe tbody tr th:only-of-type {\n",
       "        vertical-align: middle;\n",
       "    }\n",
       "\n",
       "    .dataframe tbody tr th {\n",
       "        vertical-align: top;\n",
       "    }\n",
       "\n",
       "    .dataframe thead th {\n",
       "        text-align: right;\n",
       "    }\n",
       "</style>\n",
       "<table border=\"1\" class=\"dataframe\">\n",
       "  <thead>\n",
       "    <tr style=\"text-align: right;\">\n",
       "      <th></th>\n",
       "      <th>bandit</th>\n",
       "      <th>learner</th>\n",
       "      <th>rounds</th>\n",
       "      <th>total_actions</th>\n",
       "      <th>regret</th>\n",
       "    </tr>\n",
       "  </thead>\n",
       "  <tbody>\n",
       "    <tr>\n",
       "      <td>0</td>\n",
       "      <td>ordinary_bandit</td>\n",
       "      <td>exp_gap</td>\n",
       "      <td>2</td>\n",
       "      <td>5832</td>\n",
       "      <td>0</td>\n",
       "    </tr>\n",
       "    <tr>\n",
       "      <td>1</td>\n",
       "      <td>ordinary_bandit</td>\n",
       "      <td>exp_gap</td>\n",
       "      <td>2</td>\n",
       "      <td>5832</td>\n",
       "      <td>0</td>\n",
       "    </tr>\n",
       "    <tr>\n",
       "      <td>2</td>\n",
       "      <td>ordinary_bandit</td>\n",
       "      <td>exp_gap</td>\n",
       "      <td>2</td>\n",
       "      <td>5832</td>\n",
       "      <td>0</td>\n",
       "    </tr>\n",
       "    <tr>\n",
       "      <td>3</td>\n",
       "      <td>ordinary_bandit</td>\n",
       "      <td>exp_gap</td>\n",
       "      <td>2</td>\n",
       "      <td>5832</td>\n",
       "      <td>0</td>\n",
       "    </tr>\n",
       "    <tr>\n",
       "      <td>4</td>\n",
       "      <td>ordinary_bandit</td>\n",
       "      <td>exp_gap</td>\n",
       "      <td>2</td>\n",
       "      <td>5832</td>\n",
       "      <td>0</td>\n",
       "    </tr>\n",
       "  </tbody>\n",
       "</table>\n",
       "</div>"
      ],
      "text/plain": [
       "            bandit  learner  rounds  total_actions  regret\n",
       "0  ordinary_bandit  exp_gap       2           5832       0\n",
       "1  ordinary_bandit  exp_gap       2           5832       0\n",
       "2  ordinary_bandit  exp_gap       2           5832       0\n",
       "3  ordinary_bandit  exp_gap       2           5832       0\n",
       "4  ordinary_bandit  exp_gap       2           5832       0"
      ]
     },
     "execution_count": 5,
     "metadata": {},
     "output_type": "execute_result"
    }
   ],
   "source": [
    "data_df.head()"
   ]
  },
  {
   "cell_type": "code",
   "execution_count": 6,
   "metadata": {},
   "outputs": [],
   "source": [
    "data_df['confidence'] = confidence"
   ]
  },
  {
   "cell_type": "code",
   "execution_count": 7,
   "metadata": {},
   "outputs": [
    {
     "data": {
      "text/plain": [
       "<matplotlib.axes._subplots.AxesSubplot at 0x7fb6b361fd50>"
      ]
     },
     "execution_count": 7,
     "metadata": {},
     "output_type": "execute_result"
    },
    {
     "data": {
      "image/png": "[encoded data removed]",
      "text/plain": [
       "<Figure size 432x288 with 1 Axes>"
      ]
     },
     "metadata": {
      "needs_background": "light"
     },
     "output_type": "display_data"
    }
   ],
   "source": [
    "sns.barplot(x='confidence', y='total_actions', hue='learner', data=data_df)"
   ]
  },
  {
   "cell_type": "code",
   "execution_count": null,
   "metadata": {},
   "outputs": [],
   "source": []
  }
 ],
 "metadata": {
  "kernelspec": {
   "display_name": "Python 3",
   "language": "python",
   "name": "python3"
  },
  "language_info": {
   "codemirror_mode": {
    "name": "ipython",
    "version": 3
   },
   "file_extension": ".py",
   "mimetype": "text/x-python",
   "name": "python",
   "nbconvert_exporter": "python",
   "pygments_lexer": "ipython3",
   "version": "3.7.4"
  }
 },
 "nbformat": 4,
 "nbformat_minor": 2
}
