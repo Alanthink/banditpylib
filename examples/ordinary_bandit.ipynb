{
 "cells": [
  {
   "cell_type": "code",
   "execution_count": 1,
   "metadata": {},
   "outputs": [],
   "source": [
    "import sys"
   ]
  },
  {
   "cell_type": "code",
   "execution_count": 2,
   "metadata": {},
   "outputs": [],
   "source": [
    "import matplotlib.pyplot as plt\n",
    "import numpy as np\n",
    "import pandas as pd\n",
    "import tempfile\n",
    "import seaborn as sns\n",
    "sns.set(style=\"darkgrid\")\n",
    "\n",
    "import google.protobuf.json_format as json_format\n",
    "\n",
    "import warnings\n",
    "warnings.simplefilter('ignore')\n",
    "\n",
    "import logging\n",
    "logging.basicConfig()\n",
    "logger = logging.getLogger()\n",
    "logger.setLevel(logging.INFO)\n",
    "\n",
    "from banditpylib.arms import BernoulliArm\n",
    "from banditpylib.bandits import OrdinaryBandit\n",
    "from banditpylib.protocols import SinglePlayerProtocol, parse_trials_data\n",
    "from banditpylib.learners.ordinary_learner import UCB, EpsGreedy, ThompsonSampling"
   ]
  },
  {
   "cell_type": "code",
   "execution_count": 3,
   "metadata": {},
   "outputs": [],
   "source": [
    "horizon = 2000\n",
    "means = np.array([0.3, 0.5, 0.7])\n",
    "arms = [BernoulliArm(mean) for mean in means]\n",
    "bandit = OrdinaryBandit(arms=arms)\n",
    "learners = [EpsGreedy(arm_num=len(arms), name='Epsilon Greedy'), \n",
    "            UCB(arm_num=len(arms), name='UCB'),\n",
    "            ThompsonSampling(arm_num=len(arms), name='Thompson Sampling')]\n",
    "# intermediate regrets to record for each trial of a game\n",
    "intermediate_regrets = list(range(0, horizon+1, 50))\n",
    "temp_file = tempfile.NamedTemporaryFile()"
   ]
  },
  {
   "cell_type": "code",
   "execution_count": 4,
   "metadata": {},
   "outputs": [
    {
     "name": "stderr",
     "output_type": "stream",
     "text": [
      "INFO:absl:start Epsilon Greedy's play with ordinary_bandit\n",
      "INFO:absl:Epsilon Greedy's play with ordinary_bandit runs 6.64 seconds.\n",
      "INFO:absl:start UCB's play with ordinary_bandit\n",
      "INFO:absl:UCB's play with ordinary_bandit runs 8.67 seconds.\n",
      "INFO:absl:start Thompson Sampling's play with ordinary_bandit\n",
      "INFO:absl:Thompson Sampling's play with ordinary_bandit runs 8.57 seconds.\n"
     ]
    }
   ],
   "source": [
    "# simulator\n",
    "game = SinglePlayerProtocol(bandit, learners, intermediate_regrets=intermediate_regrets, horizon=horizon)\n",
    "# start playing the game\n",
    "# add `debug=True` for debugging purpose\n",
    "game.play(trials=200, output_filename=temp_file.name)"
   ]
  },
  {
   "cell_type": "code",
   "execution_count": 5,
   "metadata": {},
   "outputs": [],
   "source": [
    "with open(temp_file.name, 'rb') as f:\n",
    "  data = []\n",
    "  trials_data = parse_trials_data(f.read())\n",
    "  for one_trial_data in trials_data:\n",
    "    for data_item in one_trial_data.data_items:\n",
    "        data.append(json_format.MessageToDict(data_item, \n",
    "                                              including_default_value_fields=True, \n",
    "                                              preserving_proto_field_name=True))\n",
    "  data_df = pd.DataFrame.from_dict(data)"
   ]
  },
  {
   "cell_type": "code",
   "execution_count": 6,
   "metadata": {},
   "outputs": [
    {
     "data": {
      "text/html": [
       "<div>\n",
       "<style scoped>\n",
       "    .dataframe tbody tr th:only-of-type {\n",
       "        vertical-align: middle;\n",
       "    }\n",
       "\n",
       "    .dataframe tbody tr th {\n",
       "        vertical-align: top;\n",
       "    }\n",
       "\n",
       "    .dataframe thead th {\n",
       "        text-align: right;\n",
       "    }\n",
       "</style>\n",
       "<table border=\"1\" class=\"dataframe\">\n",
       "  <thead>\n",
       "    <tr style=\"text-align: right;\">\n",
       "      <th></th>\n",
       "      <th>bandit</th>\n",
       "      <th>learner</th>\n",
       "      <th>rounds</th>\n",
       "      <th>total_actions</th>\n",
       "      <th>regret</th>\n",
       "    </tr>\n",
       "  </thead>\n",
       "  <tbody>\n",
       "    <tr>\n",
       "      <th>0</th>\n",
       "      <td>ordinary_bandit</td>\n",
       "      <td>Epsilon Greedy</td>\n",
       "      <td>0</td>\n",
       "      <td>0</td>\n",
       "      <td>0.0</td>\n",
       "    </tr>\n",
       "    <tr>\n",
       "      <th>1</th>\n",
       "      <td>ordinary_bandit</td>\n",
       "      <td>Epsilon Greedy</td>\n",
       "      <td>50</td>\n",
       "      <td>50</td>\n",
       "      <td>10.0</td>\n",
       "    </tr>\n",
       "    <tr>\n",
       "      <th>2</th>\n",
       "      <td>ordinary_bandit</td>\n",
       "      <td>Epsilon Greedy</td>\n",
       "      <td>100</td>\n",
       "      <td>100</td>\n",
       "      <td>24.0</td>\n",
       "    </tr>\n",
       "    <tr>\n",
       "      <th>3</th>\n",
       "      <td>ordinary_bandit</td>\n",
       "      <td>Epsilon Greedy</td>\n",
       "      <td>150</td>\n",
       "      <td>150</td>\n",
       "      <td>35.0</td>\n",
       "    </tr>\n",
       "    <tr>\n",
       "      <th>4</th>\n",
       "      <td>ordinary_bandit</td>\n",
       "      <td>Epsilon Greedy</td>\n",
       "      <td>200</td>\n",
       "      <td>200</td>\n",
       "      <td>44.0</td>\n",
       "    </tr>\n",
       "  </tbody>\n",
       "</table>\n",
       "</div>"
      ],
      "text/plain": [
       "            bandit         learner  rounds  total_actions  regret\n",
       "0  ordinary_bandit  Epsilon Greedy       0              0     0.0\n",
       "1  ordinary_bandit  Epsilon Greedy      50             50    10.0\n",
       "2  ordinary_bandit  Epsilon Greedy     100            100    24.0\n",
       "3  ordinary_bandit  Epsilon Greedy     150            150    35.0\n",
       "4  ordinary_bandit  Epsilon Greedy     200            200    44.0"
      ]
     },
     "execution_count": 6,
     "metadata": {},
     "output_type": "execute_result"
    }
   ],
   "source": [
    "data_df.head()"
   ]
  },
  {
   "cell_type": "code",
   "execution_count": 7,
   "metadata": {},
   "outputs": [
    {
     "data": {
      "text/plain": [
       "<AxesSubplot:xlabel='total_actions', ylabel='regret'>"
      ]
     },
     "execution_count": 7,
     "metadata": {},
     "output_type": "execute_result"
    },
    {
     "data": {
      "image/png": "[encoded data removed]",
      "text/plain": [
       "<Figure size 432x288 with 1 Axes>"
      ]
     },
     "metadata": {},
     "output_type": "display_data"
    }
   ],
   "source": [
    "sns.lineplot(x='total_actions', y='regret', hue='learner', data=data_df)"
   ]
  },
  {
   "cell_type": "code",
   "execution_count": null,
   "metadata": {},
   "outputs": [],
   "source": []
  }
 ],
 "metadata": {
  "kernelspec": {
   "display_name": ".env",
   "language": "python",
   "name": ".env"
  },
  "language_info": {
   "codemirror_mode": {
    "name": "ipython",
    "version": 3
   },
   "file_extension": ".py",
   "mimetype": "text/x-python",
   "name": "python",
   "nbconvert_exporter": "python",
   "pygments_lexer": "ipython3",
   "version": "3.7.3"
  }
 },
 "nbformat": 4,
 "nbformat_minor": 4
}
