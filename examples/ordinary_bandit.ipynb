{
 "cells": [
  {
   "cell_type": "code",
   "execution_count": 1,
   "metadata": {},
   "outputs": [],
   "source": [
    "import numpy as np\n",
    "import pandas as pd\n",
    "import tempfile\n",
    "import json\n",
    "import seaborn as sns\n",
    "sns.set(style=\"darkgrid\")\n",
    "\n",
    "import warnings\n",
    "warnings.simplefilter('ignore')\n",
    "import logging\n",
    "logging.basicConfig()\n",
    "logger = logging.getLogger()\n",
    "logger.setLevel(logging.INFO)\n",
    "\n",
    "from banditpylib.arms import BernoulliArm\n",
    "from banditpylib.bandits import OrdinaryBandit\n",
    "from banditpylib.protocols import SinglePlayerProtocol\n",
    "from banditpylib.learners.ordinary_learner import UCB, EpsGreedy, ThompsonSampling"
   ]
  },
  {
   "cell_type": "code",
   "execution_count": 2,
   "metadata": {},
   "outputs": [],
   "source": [
    "horizon = 2000\n",
    "means = np.array([0.3, 0.5, 0.7])\n",
    "arms = [BernoulliArm(mean) for mean in means]\n",
    "bandit = OrdinaryBandit(arms=arms)\n",
    "learners = [EpsGreedy(arm_num=len(arms), horizon=horizon), \n",
    "            UCB(arm_num=len(arms), horizon=horizon),\n",
    "            ThompsonSampling(arm_num=len(arms), horizon=horizon)]\n",
    "# for each setup we run 200 trial\n",
    "trials = 200\n",
    "gap = 50\n",
    "# record intermediate regrets for each trial of a game\n",
    "intermediate_regrets = list(range(0, horizon+1, gap))\n",
    "temp_file = tempfile.NamedTemporaryFile()"
   ]
  },
  {
   "cell_type": "code",
   "execution_count": 3,
   "metadata": {},
   "outputs": [
    {
     "name": "stderr",
     "output_type": "stream",
     "text": [
      "INFO:absl:epsilon_greedy's play with ordinary_bandit runs 3.51 seconds.\n",
      "INFO:absl:ucb's play with ordinary_bandit runs 5.07 seconds.\n",
      "INFO:absl:thompson_sampling's play with ordinary_bandit runs 4.45 seconds.\n"
     ]
    }
   ],
   "source": [
    "for learner in learners:\n",
    "  # game simulation\n",
    "  game = SinglePlayerProtocol(bandit=bandit, learner=learner, intermediate_regrets=intermediate_regrets)\n",
    "  game.play(trials=trials, output_filename=temp_file.name)"
   ]
  },
  {
   "cell_type": "code",
   "execution_count": 4,
   "metadata": {},
   "outputs": [],
   "source": [
    "with open(temp_file.name, 'r') as f:\n",
    "  data = []\n",
    "  lines = f.readlines()\n",
    "  for line in lines:\n",
    "    data.append(json.loads(line))\n",
    "  data_df = pd.DataFrame.from_dict(data)"
   ]
  },
  {
   "cell_type": "code",
   "execution_count": 5,
   "metadata": {},
   "outputs": [
    {
     "data": {
      "text/html": [
       "<div>\n",
       "<style scoped>\n",
       "    .dataframe tbody tr th:only-of-type {\n",
       "        vertical-align: middle;\n",
       "    }\n",
       "\n",
       "    .dataframe tbody tr th {\n",
       "        vertical-align: top;\n",
       "    }\n",
       "\n",
       "    .dataframe thead th {\n",
       "        text-align: right;\n",
       "    }\n",
       "</style>\n",
       "<table border=\"1\" class=\"dataframe\">\n",
       "  <thead>\n",
       "    <tr style=\"text-align: right;\">\n",
       "      <th></th>\n",
       "      <th>bandit</th>\n",
       "      <th>learner</th>\n",
       "      <th>rounds</th>\n",
       "      <th>total_actions</th>\n",
       "      <th>regret</th>\n",
       "    </tr>\n",
       "  </thead>\n",
       "  <tbody>\n",
       "    <tr>\n",
       "      <td>0</td>\n",
       "      <td>ordinary_bandit</td>\n",
       "      <td>epsilon_greedy</td>\n",
       "      <td>0</td>\n",
       "      <td>0</td>\n",
       "      <td>0.0</td>\n",
       "    </tr>\n",
       "    <tr>\n",
       "      <td>1</td>\n",
       "      <td>ordinary_bandit</td>\n",
       "      <td>epsilon_greedy</td>\n",
       "      <td>50</td>\n",
       "      <td>50</td>\n",
       "      <td>14.0</td>\n",
       "    </tr>\n",
       "    <tr>\n",
       "      <td>2</td>\n",
       "      <td>ordinary_bandit</td>\n",
       "      <td>epsilon_greedy</td>\n",
       "      <td>100</td>\n",
       "      <td>100</td>\n",
       "      <td>16.0</td>\n",
       "    </tr>\n",
       "    <tr>\n",
       "      <td>3</td>\n",
       "      <td>ordinary_bandit</td>\n",
       "      <td>epsilon_greedy</td>\n",
       "      <td>150</td>\n",
       "      <td>150</td>\n",
       "      <td>23.0</td>\n",
       "    </tr>\n",
       "    <tr>\n",
       "      <td>4</td>\n",
       "      <td>ordinary_bandit</td>\n",
       "      <td>epsilon_greedy</td>\n",
       "      <td>200</td>\n",
       "      <td>200</td>\n",
       "      <td>19.0</td>\n",
       "    </tr>\n",
       "  </tbody>\n",
       "</table>\n",
       "</div>"
      ],
      "text/plain": [
       "            bandit         learner  rounds  total_actions  regret\n",
       "0  ordinary_bandit  epsilon_greedy       0              0     0.0\n",
       "1  ordinary_bandit  epsilon_greedy      50             50    14.0\n",
       "2  ordinary_bandit  epsilon_greedy     100            100    16.0\n",
       "3  ordinary_bandit  epsilon_greedy     150            150    23.0\n",
       "4  ordinary_bandit  epsilon_greedy     200            200    19.0"
      ]
     },
     "execution_count": 5,
     "metadata": {},
     "output_type": "execute_result"
    }
   ],
   "source": [
    "data_df.head()"
   ]
  },
  {
   "cell_type": "code",
   "execution_count": 6,
   "metadata": {},
   "outputs": [
    {
     "data": {
      "text/plain": [
       "<matplotlib.axes._subplots.AxesSubplot at 0x7fa8338ac210>"
      ]
     },
     "execution_count": 6,
     "metadata": {},
     "output_type": "execute_result"
    },
    {
     "data": {
      "image/png": "[encoded data removed]",
      "text/plain": [
       "<Figure size 432x288 with 1 Axes>"
      ]
     },
     "metadata": {
      "needs_background": "light"
     },
     "output_type": "display_data"
    }
   ],
   "source": [
    "sns.lineplot(x='total_actions', y='regret', hue='learner', data=data_df)"
   ]
  },
  {
   "cell_type": "code",
   "execution_count": null,
   "metadata": {},
   "outputs": [],
   "source": []
  }
 ],
 "metadata": {
  "kernelspec": {
   "display_name": "Python 3",
   "language": "python",
   "name": "python3"
  },
  "language_info": {
   "codemirror_mode": {
    "name": "ipython",
    "version": 3
   },
   "file_extension": ".py",
   "mimetype": "text/x-python",
   "name": "python",
   "nbconvert_exporter": "python",
   "pygments_lexer": "ipython3",
   "version": "3.7.4"
  }
 },
 "nbformat": 4,
 "nbformat_minor": 4
}
