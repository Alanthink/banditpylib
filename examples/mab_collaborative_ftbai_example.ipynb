{
 "cells": [
  {
   "cell_type": "code",
   "execution_count": 1,
   "metadata": {
    "id": "HGDOzfXRtav4"
   },
   "outputs": [],
   "source": [
    "import matplotlib.pyplot as plt\n",
    "import numpy as np\n",
    "import pandas as pd\n",
    "import tempfile\n",
    "import seaborn as sns\n",
    "import random\n",
    "sns.set(style=\"darkgrid\")\n",
    "\n",
    "from banditpylib import trials_to_dataframe\n",
    "from banditpylib.arms import GaussianArm\n",
    "from banditpylib.bandits import MultiArmedBandit\n",
    "from banditpylib.protocols import CollaborativeLearningProtocol, SinglePlayerProtocol\n",
    "from banditpylib.learners.mab_collaborative_ftbai_learner import LilUCBHeuristicCollaborative\n",
    "from banditpylib.learners.mab_fcbai_learner import LilUCBHeuristic"
   ]
  },
  {
   "cell_type": "code",
   "execution_count": 2,
   "metadata": {
    "colab": {
     "base_uri": "https://localhost:8080/"
    },
    "id": "hH2kS2VzweXo",
    "outputId": "1dce3f44-5f3b-4c4a-ce23-9f5a9a491495"
   },
   "outputs": [],
   "source": [
    "means = [(i/10)**0.5 for i in range(1,10)]\n",
    "random.shuffle(means)"
   ]
  },
  {
   "cell_type": "code",
   "execution_count": 3,
   "metadata": {
    "id": "hEeg9MS3uWmT"
   },
   "outputs": [],
   "source": [
    "confidence = 0.99\n",
    "num_learners, rounds, horizon = 10, 5, 20000\n",
    "param_dict = {\n",
    "    \"rounds\": [rounds] * num_learners,\n",
    "    \"horizon\": [horizon] * num_learners,\n",
    "    \"num_agents\": [2*i + 1 for i in range(num_learners)]\n",
    "}\n",
    "\n",
    "arms = [GaussianArm(mu=mean, std=1) for mean in means]\n",
    "bandit = MultiArmedBandit(arms=arms)\n",
    "learners = [LilUCBHeuristicCollaborative(num_agents=param_dict[\"num_agents\"][i], \n",
    "                                         arm_num=len(arms), \n",
    "                                         rounds=param_dict[\"rounds\"][i], \n",
    "                                         horizon=param_dict[\"horizon\"][i],\n",
    "                                         name=\"learner %d\" % (i+1)) for i in range(num_learners)]\n",
    "trials = 10"
   ]
  },
  {
   "cell_type": "code",
   "execution_count": 4,
   "metadata": {
    "id": "NNorEU6Cul2U"
   },
   "outputs": [],
   "source": [
    "game1 = CollaborativeLearningProtocol(bandit=bandit, learners=learners)\n",
    "temp_file1 = tempfile.NamedTemporaryFile()\n",
    "game1.play(trials=trials, output_filename=temp_file1.name)\n",
    "data_df1 = trials_to_dataframe(temp_file1.name)"
   ]
  },
  {
   "cell_type": "code",
   "execution_count": null,
   "metadata": {
    "id": "d8AHoSwTxCOl"
   },
   "outputs": [],
   "source": [
    "learners = [LilUCBHeuristic(len(arms), confidence)]\n",
    "game2 = SinglePlayerProtocol(bandit=bandit, learners=learners, horizon=horizon)\n",
    "temp_file2 = tempfile.NamedTemporaryFile()\n",
    "game2.play(trials=trials, output_filename=temp_file2.name)\n",
    "data_df2 = trials_to_dataframe(temp_file2.name)"
   ]
  },
  {
   "cell_type": "code",
   "execution_count": null,
   "metadata": {
    "id": "sYjAe-c38rTy"
   },
   "outputs": [],
   "source": [
    "data_df = pd.concat([data_df1, data_df2])\n",
    "data_df[\"confidence\"] = confidence"
   ]
  },
  {
   "cell_type": "code",
   "execution_count": null,
   "metadata": {
    "colab": {
     "base_uri": "https://localhost:8080/",
     "height": 285
    },
    "id": "JYsG0GdXyYiU",
    "outputId": "575cd1e9-0c03-4d3b-bc01-472bb1866596"
   },
   "outputs": [],
   "source": [
    "fig = plt.figure()\n",
    "ax = plt.subplot(111)\n",
    "sns.barplot(x='confidence', y='regret', hue='learner', data=data_df)\n",
    "plt.ylabel('regret')\n",
    "ax.legend(loc='center left', bbox_to_anchor=(1, 0.5))\n",
    "plt.show()"
   ]
  },
  {
   "cell_type": "code",
   "execution_count": null,
   "metadata": {
    "colab": {
     "base_uri": "https://localhost:8080/",
     "height": 285
    },
    "id": "8AysyaLFzU6A",
    "outputId": "716a1c76-496c-423f-a6f9-cd708b59f4b7"
   },
   "outputs": [],
   "source": [
    "fig = plt.figure()\n",
    "ax = plt.subplot(111)\n",
    "sns.barplot(x='confidence', y='total_actions', hue='learner', data=data_df)\n",
    "plt.ylabel('pulls')\n",
    "ax.legend(loc='center left', bbox_to_anchor=(1, 0.5))\n",
    "plt.show()"
   ]
  },
  {
   "cell_type": "code",
   "execution_count": null,
   "metadata": {
    "id": "Umnmc__RvqjX"
   },
   "outputs": [],
   "source": [
    "confidence = 0.99\n",
    "num_learners = 10\n",
    "rounds1, horizon1 = 3, 20000\n",
    "rounds2, horizon2 = 10, 20000\n",
    "param_dict1, param_dict2 = {}, {}\n",
    "num_agents = [2*i + 1 for i in range(num_learners)]\n",
    "for i in range(num_learners):\n",
    "  param_dict1[i] = {\"rounds\": rounds1, \"horizon\": horizon1, \"num_agents\": num_agents[i]}\n",
    "  param_dict2[i] = {\"rounds\": rounds2, \"horizon\": horizon2, \"num_agents\": num_agents[i]}\n",
    "\n",
    "arms = [GaussianArm(mu=mean, std=1) for mean in means]\n",
    "bandit = MultiArmedBandit(arms=arms)\n",
    "\n",
    "learners1 = [LilUCBHeuristicCollaborative(num_agents=param_dict1[i][\"num_agents\"],\n",
    "                                          arm_num=len(arms),\n",
    "                                          rounds=param_dict1[i][\"rounds\"],\n",
    "                                          horizon=param_dict1[i][\"horizon\"],\n",
    "                                          name=\"learner1 %d\" % (i+1)) for i in range(num_learners)]\n",
    "\n",
    "learners2 = [LilUCBHeuristicCollaborative(num_agents=param_dict2[i][\"num_agents\"],\n",
    "                                          arm_num=len(arms),\n",
    "                                          rounds=param_dict2[i][\"rounds\"],\n",
    "                                          horizon=param_dict2[i][\"horizon\"],\n",
    "                                          name=\"learner2 %d\" % (i+1)) for i in range(num_learners)]\n",
    "\n",
    "trials = 10"
   ]
  },
  {
   "cell_type": "code",
   "execution_count": null,
   "metadata": {
    "colab": {
     "base_uri": "https://localhost:8080/"
    },
    "id": "iEncwJSIn6Ck",
    "outputId": "2c996334-559d-4748-d240-e171d1b600f3"
   },
   "outputs": [],
   "source": [
    "game1 = CollaborativeLearningProtocol(bandit=bandit, learners=learners1)\n",
    "temp_file3 = tempfile.NamedTemporaryFile()\n",
    "game1.play(trials=trials, output_filename=temp_file3.name)\n",
    "data_df1 = trials_to_dataframe(temp_file3.name)\n",
    "game2 = CollaborativeLearningProtocol(bandit=bandit, learners=learners2)\n",
    "temp_file4 = tempfile.NamedTemporaryFile()\n",
    "game2.play(trials=trials, output_filename=temp_file4.name)\n",
    "data_df2 = trials_to_dataframe(temp_file4.name)"
   ]
  },
  {
   "cell_type": "code",
   "execution_count": null,
   "metadata": {
    "id": "meOTzfrOqS8T"
   },
   "outputs": [],
   "source": [
    "def get_rounds_from_learner_name(learner):\n",
    "  i = int(learner.split()[0][-1])\n",
    "  if i==1:\n",
    "    return rounds1\n",
    "  return rounds2\n",
    "\n",
    "def get_num_agents_from_learner_name(learner):\n",
    "  i = int(learner.split()[-1])\n",
    "  return num_agents[i-1]"
   ]
  },
  {
   "cell_type": "code",
   "execution_count": null,
   "metadata": {
    "colab": {
     "base_uri": "https://localhost:8080/"
    },
    "id": "3wc49auItOhX",
    "outputId": "1698dd9c-3c65-4902-ffb3-151995aacef4"
   },
   "outputs": [],
   "source": [
    "num_agents"
   ]
  },
  {
   "cell_type": "code",
   "execution_count": null,
   "metadata": {
    "id": "wAIXjHUGryzb"
   },
   "outputs": [],
   "source": [
    "data_df = pd.concat([data_df1, data_df2])\n",
    "data_df[\"rounds\"] = data_df[\"learner\"].apply(get_rounds_from_learner_name)\n",
    "data_df[\"num_agents\"] = data_df[\"learner\"].apply(get_num_agents_from_learner_name)"
   ]
  },
  {
   "cell_type": "code",
   "execution_count": null,
   "metadata": {
    "colab": {
     "base_uri": "https://localhost:8080/",
     "height": 285
    },
    "id": "y_VdYOYEr9Ge",
    "outputId": "58a15b31-2da7-4a0d-dfca-a17a3412c669"
   },
   "outputs": [],
   "source": [
    "fig = plt.figure()\n",
    "ax = plt.subplot(111)\n",
    "sns.lineplot(x='num_agents', y='total_actions', hue='rounds', data=data_df)\n",
    "plt.ylabel('pulls')\n",
    "plt.xlabel('number of agents')\n",
    "ax.legend(loc='center left', bbox_to_anchor=(1, 0.5))\n",
    "plt.show()"
   ]
  },
  {
   "cell_type": "code",
   "execution_count": null,
   "metadata": {
    "colab": {
     "base_uri": "https://localhost:8080/",
     "height": 285
    },
    "id": "-AAdHFn7s5Sf",
    "outputId": "eb7ae6a6-64a1-48ac-e892-ead79ebb311a"
   },
   "outputs": [],
   "source": [
    "fig = plt.figure()\n",
    "ax = plt.subplot(111)\n",
    "sns.lineplot(x='num_agents', y='regret', hue='rounds', data=data_df)\n",
    "plt.ylabel('regret')\n",
    "plt.xlabel('number of agents')\n",
    "ax.legend(loc='center left', bbox_to_anchor=(1, 0.5))\n",
    "plt.show()"
   ]
  }
 ],
 "metadata": {
  "colab": {
   "collapsed_sections": [],
   "name": "example_collaborative.ipynb",
   "provenance": []
  },
  "kernelspec": {
   "display_name": "Python 3",
   "language": "python",
   "name": "python3"
  },
  "language_info": {
   "codemirror_mode": {
    "name": "ipython",
    "version": 3
   },
   "file_extension": ".py",
   "mimetype": "text/x-python",
   "name": "python",
   "nbconvert_exporter": "python",
   "pygments_lexer": "ipython3",
   "version": "3.8.2"
  }
 },
 "nbformat": 4,
 "nbformat_minor": 1
}
