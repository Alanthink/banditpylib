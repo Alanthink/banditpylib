{
  "nbformat": 4,
  "nbformat_minor": 0,
  "metadata": {
    "kernelspec": {
      "display_name": "Python 3",
      "language": "python",
      "name": "python3"
    },
    "language_info": {
      "codemirror_mode": {
        "name": "ipython",
        "version": 3
      },
      "file_extension": ".py",
      "mimetype": "text/x-python",
      "name": "python",
      "nbconvert_exporter": "python",
      "pygments_lexer": "ipython3",
      "version": "3.7.4"
    },
    "colab": {
      "name": "example_collaborative.ipynb",
      "provenance": [],
      "collapsed_sections": []
    }
  },
  "cells": [
    {
      "cell_type": "code",
      "metadata": {
        "colab": {
          "base_uri": "https://localhost:8080/"
        },
        "id": "9laPFzMLtMce",
        "outputId": "31589da0-9499-4c05-96df-09a518955606"
      },
      "source": [
        "!git clone https://github.com/sheelfshah/banditpylib.git\n",
        "%cd banditpylib\n",
        "!make install\n",
        "!pip3 uninstall matplotlib\n",
        "!pip3 install matplotlib==3.1.3"
      ],
      "execution_count": 1,
      "outputs": [
        {
          "output_type": "stream",
          "text": [
            "Cloning into 'banditpylib'...\n",
            "remote: Enumerating objects: 7288, done.\u001b[K\n",
            "remote: Counting objects: 100% (684/684), done.\u001b[K\n",
            "remote: Compressing objects: 100% (342/342), done.\u001b[K\n",
            "remote: Total 7288 (delta 504), reused 468 (delta 341), pack-reused 6604\u001b[K\n",
            "Receiving objects: 100% (7288/7288), 10.53 MiB | 14.36 MiB/s, done.\n",
            "Resolving deltas: 100% (5424/5424), done.\n"
          ],
          "name": "stdout"
        }
      ]
    },
    {
      "cell_type": "code",
      "metadata": {
        "colab": {
          "base_uri": "https://localhost:8080/"
        },
        "id": "BGEnhCtErppK",
        "outputId": "54d1b416-588f-470c-9432-4cbda402dd2f"
      },
      "source": [
        "# run only if updating\n",
        "%cd banditpylib\n",
        "!git pull\n",
        "!pip install -e .\n",
        "# restart runtime"
      ],
      "execution_count": 16,
      "outputs": [
        {
          "output_type": "stream",
          "text": [
            "/content/banditpylib\n",
            "Already up to date.\n",
            "Obtaining file:///content/banditpylib\n",
            "Installing collected packages: banditpylib\n",
            "  Attempting uninstall: banditpylib\n",
            "    Found existing installation: banditpylib 1.0.0\n",
            "    Can't uninstall 'banditpylib'. No files were found to uninstall.\n",
            "  Running setup.py develop for banditpylib\n",
            "Successfully installed banditpylib-1.0.0\n",
            "\u001b[33mWARNING: Running pip as the 'root' user can result in broken permissions and conflicting behaviour with the system package manager. It is recommended to use a virtual environment instead: https://pip.pypa.io/warnings/venv\u001b[0m\n"
          ],
          "name": "stdout"
        }
      ]
    },
    {
      "cell_type": "code",
      "metadata": {
        "id": "HGDOzfXRtav4"
      },
      "source": [
        "import matplotlib.pyplot as plt\n",
        "import numpy as np\n",
        "import pandas as pd\n",
        "import tempfile\n",
        "import seaborn as sns\n",
        "import random\n",
        "sns.set(style=\"darkgrid\")\n",
        "\n",
        "from banditpylib import trials_to_dataframe\n",
        "from banditpylib.arms import GaussianArm\n",
        "from banditpylib.bandits import MultiArmedBandit\n",
        "from banditpylib.protocols import CollaborativeLearningProtocol, SinglePlayerProtocol\n",
        "from banditpylib.learners.collaborative_learner import (\n",
        "    LilUCBHeuristicCollaborativeBAIAgent as Agent,\n",
        "    LilUCBHeuristicCollaborativeBAIMaster as Master,\n",
        "    CollaborativeBAILearner as Learner\n",
        ")\n",
        "from banditpylib.learners.mab_fcbai_learner import LilUCBHeuristic"
      ],
      "execution_count": 1,
      "outputs": []
    },
    {
      "cell_type": "code",
      "metadata": {
        "colab": {
          "base_uri": "https://localhost:8080/"
        },
        "id": "hH2kS2VzweXo",
        "outputId": "15f73a61-5ddd-4966-a584-8e65aeb5947e"
      },
      "source": [
        "means = [(i/10)**0.5 for i in range(1,10)]\n",
        "random.shuffle(means)\n",
        "print(means)"
      ],
      "execution_count": 2,
      "outputs": [
        {
          "output_type": "stream",
          "text": [
            "[0.8366600265340756, 0.7071067811865476, 0.4472135954999579, 0.7745966692414834, 0.6324555320336759, 0.9486832980505138, 0.5477225575051661, 0.31622776601683794, 0.8944271909999159]\n"
          ],
          "name": "stdout"
        }
      ]
    },
    {
      "cell_type": "code",
      "metadata": {
        "id": "hEeg9MS3uWmT"
      },
      "source": [
        "confidence = 0.99\n",
        "num_learners, rounds, horizon = 10, 5, 30000\n",
        "param_dict = {\n",
        "    \"rounds\": [rounds] * num_learners,\n",
        "    \"horizon\": [horizon] * num_learners,\n",
        "    \"num_agents\": [2*(i + 1) for i in range(num_learners)]\n",
        "}\n",
        "\n",
        "arms = [GaussianArm(mu=mean, std=1) for mean in means]\n",
        "bandit = MultiArmedBandit(arms=arms)\n",
        "masters = [Master(arm_num=len(arms), rounds=param_dict[\"rounds\"][i], horizon=param_dict[\"horizon\"][i],\n",
        "                  num_agents=param_dict[\"num_agents\"][i], name=\"master %d\" % (i+1)) for i in range(num_learners)]\n",
        "agents = [Agent(arm_num=len(arms), rounds=param_dict[\"rounds\"][i], horizon=param_dict[\"horizon\"][i],\n",
        "                name=\"agent %d\" % (i+1)) for i in range(num_learners)]\n",
        "\n",
        "learners = [Learner(agent=agents[i], master=masters[i], num_agents=param_dict[\"num_agents\"][i],\n",
        "                    name=\"learner %d\" % (i+1)) for i in range(num_learners)]\n",
        "trials = 5"
      ],
      "execution_count": 3,
      "outputs": []
    },
    {
      "cell_type": "code",
      "metadata": {
        "id": "NNorEU6Cul2U"
      },
      "source": [
        "game1 = CollaborativeLearningProtocol(bandit=bandit, learners=learners)\n",
        "game1.play(trials=trials, output_filename=\"trial_outputs1.txt\")\n",
        "data_df1 = trials_to_dataframe(\"trial_outputs1.txt\")\n",
        "!rm trial_outputs1.txt"
      ],
      "execution_count": 4,
      "outputs": []
    },
    {
      "cell_type": "code",
      "metadata": {
        "id": "d8AHoSwTxCOl"
      },
      "source": [
        "learners = [LilUCBHeuristic(len(arms), confidence)]\n",
        "game2 = SinglePlayerProtocol(bandit=bandit, learners=learners, horizon=horizon)\n",
        "game2.play(trials=trials, output_filename=\"trial_outputs2.txt\")\n",
        "data_df2 = trials_to_dataframe(\"trial_outputs2.txt\")\n",
        "!rm trial_outputs2.txt"
      ],
      "execution_count": 5,
      "outputs": []
    },
    {
      "cell_type": "code",
      "metadata": {
        "id": "sYjAe-c38rTy"
      },
      "source": [
        "data_df = pd.concat([data_df1, data_df2])\n",
        "data_df[\"confidence\"] = confidence"
      ],
      "execution_count": 6,
      "outputs": []
    },
    {
      "cell_type": "code",
      "metadata": {
        "colab": {
          "base_uri": "https://localhost:8080/",
          "height": 285
        },
        "id": "JYsG0GdXyYiU",
        "outputId": "2f779af1-c300-4bbe-cb8d-fa8c9275ca80"
      },
      "source": [
        "fig = plt.figure()\n",
        "ax = plt.subplot(111)\n",
        "sns.barplot(x='confidence', y='regret', hue='learner', data=data_df)\n",
        "plt.ylabel('regret')\n",
        "ax.legend(loc='center left', bbox_to_anchor=(1, 0.5))\n",
        "plt.show()\n",
        "# non zero regret due to bug?"
      ],
      "execution_count": 7,
      "outputs": [
        {
          "output_type": "display_data",
          "data": {
            "image/png": "[encoded data removed]",
            "text/plain": [
              "<Figure size 432x288 with 1 Axes>"
            ]
          },
          "metadata": {
            "tags": [],
            "needs_background": "light"
          }
        }
      ]
    },
    {
      "cell_type": "code",
      "metadata": {
        "id": "8AysyaLFzU6A",
        "colab": {
          "base_uri": "https://localhost:8080/",
          "height": 285
        },
        "outputId": "e0ecc81d-9f06-45c5-981d-c8d7104b0a5e"
      },
      "source": [
        "fig = plt.figure()\n",
        "ax = plt.subplot(111)\n",
        "sns.barplot(x='confidence', y='total_actions', hue='learner', data=data_df)\n",
        "plt.ylabel('pulls')\n",
        "ax.legend(loc='center left', bbox_to_anchor=(1, 0.5))\n",
        "plt.show()\n",
        "# agents not fast enough ?"
      ],
      "execution_count": 8,
      "outputs": [
        {
          "output_type": "display_data",
          "data": {
            "image/png": "[encoded data removed]",
            "text/plain": [
              "<Figure size 432x288 with 1 Axes>"
            ]
          },
          "metadata": {
            "tags": [],
            "needs_background": "light"
          }
        }
      ]
    },
    {
      "cell_type": "code",
      "metadata": {
        "id": "Umnmc__RvqjX"
      },
      "source": [
        ""
      ],
      "execution_count": null,
      "outputs": []
    }
  ]
}