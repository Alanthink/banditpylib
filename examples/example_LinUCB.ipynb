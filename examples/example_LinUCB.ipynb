{
  "nbformat": 4,
  "nbformat_minor": 0,
  "metadata": {
    "kernelspec": {
      "display_name": "Python 3",
      "language": "python",
      "name": "python3"
    },
    "language_info": {
      "codemirror_mode": {
        "name": "ipython",
        "version": 3
      },
      "file_extension": ".py",
      "mimetype": "text/x-python",
      "name": "python",
      "nbconvert_exporter": "python",
      "pygments_lexer": "ipython3",
      "version": "3.7.4"
    },
    "colab": {
      "name": "example_LinUCB.ipynb",
      "provenance": [],
      "collapsed_sections": [],
      "toc_visible": true
    }
  },
  "cells": [
    {
      "cell_type": "code",
      "metadata": {
        "colab": {
          "base_uri": "https://localhost:8080/"
        },
        "id": "9laPFzMLtMce",
        "outputId": "502a37d9-a3fc-45fc-d8a2-25b1c1c198b8"
      },
      "source": [
        "!git clone https://github.com/sheelfshah/banditpylib.git"
      ],
      "execution_count": 1,
      "outputs": [
        {
          "output_type": "stream",
          "text": [
            "Cloning into 'banditpylib'...\n",
            "remote: Enumerating objects: 6265, done.\u001b[K\n",
            "remote: Counting objects: 100% (1591/1591), done.\u001b[K\n",
            "remote: Compressing objects: 100% (945/945), done.\u001b[K\n",
            "remote: Total 6265 (delta 1165), reused 1029 (delta 635), pack-reused 4674\u001b[K\n",
            "Receiving objects: 100% (6265/6265), 10.02 MiB | 14.49 MiB/s, done.\n",
            "Resolving deltas: 100% (4554/4554), done.\n"
          ],
          "name": "stdout"
        }
      ]
    },
    {
      "cell_type": "code",
      "metadata": {
        "colab": {
          "base_uri": "https://localhost:8080/"
        },
        "id": "2FrS1Ot6tOYB",
        "outputId": "75344bde-8ea4-47b9-c187-f5c732e3983c"
      },
      "source": [
        "%cd banditpylib"
      ],
      "execution_count": 2,
      "outputs": [
        {
          "output_type": "stream",
          "text": [
            "/content/banditpylib\n"
          ],
          "name": "stdout"
        }
      ]
    },
    {
      "cell_type": "code",
      "metadata": {
        "colab": {
          "base_uri": "https://localhost:8080/"
        },
        "id": "B6EZwiOHtUlU",
        "outputId": "2366f06b-6c98-4f1c-f2fe-d33ea1a49842"
      },
      "source": [
        "!make install"
      ],
      "execution_count": 3,
      "outputs": [
        {
          "output_type": "stream",
          "text": [
            "pip install --upgrade pip\n",
            "Collecting pip\n",
            "\u001b[?25l  Downloading https://files.pythonhosted.org/packages/cd/82/04e9aaf603fdbaecb4323b9e723f13c92c245f6ab2902195c53987848c78/pip-21.1.2-py3-none-any.whl (1.5MB)\n",
            "\u001b[K     |████████████████████████████████| 1.6MB 3.9MB/s \n",
            "\u001b[?25hInstalling collected packages: pip\n",
            "  Found existing installation: pip 19.3.1\n",
            "    Uninstalling pip-19.3.1:\n",
            "      Successfully uninstalled pip-19.3.1\n",
            "Successfully installed pip-21.1.2\n",
            "pip install -r requirements.txt\n",
            "Requirement already satisfied: absl-py>=0.12.0 in /usr/local/lib/python3.7/dist-packages (from -r requirements.txt (line 1)) (0.12.0)\n",
            "Collecting astroid>=2.5.3\n",
            "  Downloading astroid-2.5.6-py3-none-any.whl (219 kB)\n",
            "\u001b[K     |████████████████████████████████| 219 kB 4.0 MB/s \n",
            "\u001b[?25hRequirement already satisfied: attrs>=20.3.0 in /usr/local/lib/python3.7/dist-packages (from -r requirements.txt (line 3)) (21.2.0)\n",
            "Requirement already satisfied: cycler>=0.10.0 in /usr/local/lib/python3.7/dist-packages (from -r requirements.txt (line 4)) (0.10.0)\n",
            "Requirement already satisfied: importlib-metadata>=3.10.0 in /usr/local/lib/python3.7/dist-packages (from -r requirements.txt (line 5)) (4.0.1)\n",
            "Requirement already satisfied: iniconfig>=1.1.1 in /usr/local/lib/python3.7/dist-packages (from -r requirements.txt (line 6)) (1.1.1)\n",
            "Collecting isort>=5.8.0\n",
            "  Downloading isort-5.8.0-py3-none-any.whl (103 kB)\n",
            "\u001b[K     |████████████████████████████████| 103 kB 48.0 MB/s \n",
            "\u001b[?25hRequirement already satisfied: kiwisolver>=1.3.1 in /usr/local/lib/python3.7/dist-packages (from -r requirements.txt (line 8)) (1.3.1)\n",
            "Collecting lazy-object-proxy>=1.6.0\n",
            "  Downloading lazy_object_proxy-1.6.0-cp37-cp37m-manylinux1_x86_64.whl (55 kB)\n",
            "\u001b[K     |████████████████████████████████| 55 kB 3.6 MB/s \n",
            "\u001b[?25hCollecting matplotlib>=3.4.1\n",
            "  Downloading matplotlib-3.4.2-cp37-cp37m-manylinux1_x86_64.whl (10.3 MB)\n",
            "\u001b[K     |████████████████████████████████| 10.3 MB 43.2 MB/s \n",
            "\u001b[?25hCollecting mccabe>=0.6.1\n",
            "  Downloading mccabe-0.6.1-py2.py3-none-any.whl (8.6 kB)\n",
            "Collecting mypy>=0.812\n",
            "  Downloading mypy-0.812-cp37-cp37m-manylinux2010_x86_64.whl (21.6 MB)\n",
            "\u001b[K     |████████████████████████████████| 21.6 MB 7.8 MB/s \n",
            "\u001b[?25hCollecting mypy-extensions>=0.4.3\n",
            "  Downloading mypy_extensions-0.4.3-py2.py3-none-any.whl (4.5 kB)\n",
            "Collecting numpy>=1.20.2\n",
            "  Downloading numpy-1.20.3-cp37-cp37m-manylinux_2_12_x86_64.manylinux2010_x86_64.whl (15.3 MB)\n",
            "\u001b[K     |████████████████████████████████| 15.3 MB 237 kB/s \n",
            "\u001b[?25hRequirement already satisfied: packaging>=20.9 in /usr/local/lib/python3.7/dist-packages (from -r requirements.txt (line 15)) (20.9)\n",
            "Collecting pandas>=1.2.3\n",
            "  Downloading pandas-1.2.4-cp37-cp37m-manylinux1_x86_64.whl (9.9 MB)\n",
            "\u001b[K     |████████████████████████████████| 9.9 MB 52.0 MB/s \n",
            "\u001b[?25hCollecting Pillow>=8.2.0\n",
            "  Downloading Pillow-8.2.0-cp37-cp37m-manylinux1_x86_64.whl (3.0 MB)\n",
            "\u001b[K     |████████████████████████████████| 3.0 MB 33.9 MB/s \n",
            "\u001b[?25hCollecting pluggy>=0.13.1\n",
            "  Downloading pluggy-0.13.1-py2.py3-none-any.whl (18 kB)\n",
            "Collecting protobuf>=3.15.8\n",
            "  Downloading protobuf-3.17.1-cp37-cp37m-manylinux_2_5_x86_64.manylinux1_x86_64.whl (1.0 MB)\n",
            "\u001b[K     |████████████████████████████████| 1.0 MB 41.4 MB/s \n",
            "\u001b[?25hRequirement already satisfied: py>=1.10.0 in /usr/local/lib/python3.7/dist-packages (from -r requirements.txt (line 20)) (1.10.0)\n",
            "Collecting pylint>=2.7.4\n",
            "  Downloading pylint-2.8.2-py3-none-any.whl (357 kB)\n",
            "\u001b[K     |████████████████████████████████| 357 kB 54.3 MB/s \n",
            "\u001b[?25hCollecting pylint-protobuf>=0.20.0\n",
            "  Downloading pylint_protobuf-0.20.1-py2.py3-none-any.whl (15 kB)\n",
            "Requirement already satisfied: pyparsing>=2.4.7 in /usr/local/lib/python3.7/dist-packages (from -r requirements.txt (line 23)) (2.4.7)\n",
            "Collecting pytest>=6.2.3\n",
            "  Downloading pytest-6.2.4-py3-none-any.whl (280 kB)\n",
            "\u001b[K     |████████████████████████████████| 280 kB 60.9 MB/s \n",
            "\u001b[?25hCollecting pytest-parallel>=0.1.0\n",
            "  Downloading pytest_parallel-0.1.0-py3-none-any.whl (6.9 kB)\n",
            "Requirement already satisfied: python-dateutil>=2.8.1 in /usr/local/lib/python3.7/dist-packages (from -r requirements.txt (line 26)) (2.8.1)\n",
            "Collecting pytz>=2021.1\n",
            "  Downloading pytz-2021.1-py2.py3-none-any.whl (510 kB)\n",
            "\u001b[K     |████████████████████████████████| 510 kB 43.1 MB/s \n",
            "\u001b[?25hCollecting scipy>=1.6.2\n",
            "  Downloading scipy-1.6.3-cp37-cp37m-manylinux1_x86_64.whl (27.4 MB)\n",
            "\u001b[K     |████████████████████████████████| 27.4 MB 140 kB/s \n",
            "\u001b[?25hRequirement already satisfied: seaborn>=0.11.1 in /usr/local/lib/python3.7/dist-packages (from -r requirements.txt (line 29)) (0.11.1)\n",
            "Requirement already satisfied: six>=1.15.0 in /usr/local/lib/python3.7/dist-packages (from -r requirements.txt (line 30)) (1.15.0)\n",
            "Requirement already satisfied: tblib>=1.7.0 in /usr/local/lib/python3.7/dist-packages (from -r requirements.txt (line 31)) (1.7.0)\n",
            "Requirement already satisfied: toml>=0.10.2 in /usr/local/lib/python3.7/dist-packages (from -r requirements.txt (line 32)) (0.10.2)\n",
            "Collecting typed-ast>=1.4.3\n",
            "  Downloading typed_ast-1.4.3-cp37-cp37m-manylinux1_x86_64.whl (743 kB)\n",
            "\u001b[K     |████████████████████████████████| 743 kB 47.6 MB/s \n",
            "\u001b[?25hRequirement already satisfied: typing-extensions>=3.7.4.3 in /usr/local/lib/python3.7/dist-packages (from -r requirements.txt (line 34)) (3.7.4.3)\n",
            "Requirement already satisfied: wrapt>=1.12.1 in /usr/local/lib/python3.7/dist-packages (from -r requirements.txt (line 35)) (1.12.1)\n",
            "Collecting yapf>=0.31.0\n",
            "  Downloading yapf-0.31.0-py2.py3-none-any.whl (185 kB)\n",
            "\u001b[K     |████████████████████████████████| 185 kB 47.5 MB/s \n",
            "\u001b[?25hRequirement already satisfied: zipp>=3.4.1 in /usr/local/lib/python3.7/dist-packages (from -r requirements.txt (line 37)) (3.4.1)\n",
            "Installing collected packages: typed-ast, lazy-object-proxy, pytz, pluggy, Pillow, numpy, mccabe, isort, astroid, scipy, pytest, pylint, protobuf, pandas, mypy-extensions, matplotlib, yapf, pytest-parallel, pylint-protobuf, mypy\n",
            "  Attempting uninstall: pytz\n",
            "    Found existing installation: pytz 2018.9\n",
            "    Uninstalling pytz-2018.9:\n",
            "      Successfully uninstalled pytz-2018.9\n",
            "  Attempting uninstall: pluggy\n",
            "    Found existing installation: pluggy 0.7.1\n",
            "    Uninstalling pluggy-0.7.1:\n",
            "      Successfully uninstalled pluggy-0.7.1\n",
            "  Attempting uninstall: Pillow\n",
            "    Found existing installation: Pillow 7.1.2\n",
            "    Uninstalling Pillow-7.1.2:\n",
            "      Successfully uninstalled Pillow-7.1.2\n",
            "  Attempting uninstall: numpy\n",
            "    Found existing installation: numpy 1.19.5\n",
            "    Uninstalling numpy-1.19.5:\n",
            "      Successfully uninstalled numpy-1.19.5\n",
            "  Attempting uninstall: scipy\n",
            "    Found existing installation: scipy 1.4.1\n",
            "    Uninstalling scipy-1.4.1:\n",
            "      Successfully uninstalled scipy-1.4.1\n",
            "  Attempting uninstall: pytest\n",
            "    Found existing installation: pytest 3.6.4\n",
            "    Uninstalling pytest-3.6.4:\n",
            "      Successfully uninstalled pytest-3.6.4\n",
            "  Attempting uninstall: protobuf\n",
            "    Found existing installation: protobuf 3.12.4\n",
            "    Uninstalling protobuf-3.12.4:\n",
            "      Successfully uninstalled protobuf-3.12.4\n",
            "  Attempting uninstall: pandas\n",
            "    Found existing installation: pandas 1.1.5\n",
            "    Uninstalling pandas-1.1.5:\n",
            "      Successfully uninstalled pandas-1.1.5\n",
            "  Attempting uninstall: matplotlib\n",
            "    Found existing installation: matplotlib 3.2.2\n",
            "    Uninstalling matplotlib-3.2.2:\n",
            "      Successfully uninstalled matplotlib-3.2.2\n",
            "\u001b[31mERROR: pip's dependency resolver does not currently take into account all the packages that are installed. This behaviour is the source of the following dependency conflicts.\n",
            "tensorflow 2.5.0 requires numpy~=1.19.2, but you have numpy 1.20.3 which is incompatible.\n",
            "google-colab 1.0.0 requires pandas~=1.1.0; python_version >= \"3.0\", but you have pandas 1.2.4 which is incompatible.\n",
            "datascience 0.10.6 requires folium==0.2.1, but you have folium 0.8.3 which is incompatible.\n",
            "albumentations 0.1.12 requires imgaug<0.2.7,>=0.2.5, but you have imgaug 0.2.9 which is incompatible.\u001b[0m\n",
            "Successfully installed Pillow-8.2.0 astroid-2.5.6 isort-5.8.0 lazy-object-proxy-1.6.0 matplotlib-3.4.2 mccabe-0.6.1 mypy-0.812 mypy-extensions-0.4.3 numpy-1.20.3 pandas-1.2.4 pluggy-0.13.1 protobuf-3.17.1 pylint-2.8.2 pylint-protobuf-0.20.1 pytest-6.2.4 pytest-parallel-0.1.0 pytz-2021.1 scipy-1.6.3 typed-ast-1.4.3 yapf-0.31.0\n",
            "\u001b[33mWARNING: Running pip as root will break packages and permissions. You should install packages reliably by using venv: https://pip.pypa.io/warnings/venv\u001b[0m\n",
            "pip install -e .\n",
            "Obtaining file:///content/banditpylib\n",
            "Installing collected packages: banditpylib\n",
            "  Running setup.py develop for banditpylib\n",
            "Successfully installed banditpylib-1.0.0\n",
            "\u001b[33mWARNING: Running pip as root will break packages and permissions. You should install packages reliably by using venv: https://pip.pypa.io/warnings/venv\u001b[0m\n"
          ],
          "name": "stdout"
        }
      ]
    },
    {
      "cell_type": "code",
      "metadata": {
        "colab": {
          "base_uri": "https://localhost:8080/",
          "height": 627
        },
        "id": "ThuTGI82v126",
        "outputId": "e787a6e8-6a73-47b8-8770-c1534a7e5ab2"
      },
      "source": [
        "!pip3 uninstall matplotlib\n",
        "!pip3 install matplotlib==3.1.3"
      ],
      "execution_count": 4,
      "outputs": [
        {
          "output_type": "stream",
          "text": [
            "Found existing installation: matplotlib 3.4.2\n",
            "Uninstalling matplotlib-3.4.2:\n",
            "  Would remove:\n",
            "    /usr/local/lib/python3.7/dist-packages/matplotlib-3.4.2-py3.7-nspkg.pth\n",
            "    /usr/local/lib/python3.7/dist-packages/matplotlib-3.4.2.dist-info/*\n",
            "    /usr/local/lib/python3.7/dist-packages/matplotlib/*\n",
            "    /usr/local/lib/python3.7/dist-packages/mpl_toolkits/axes_grid/*\n",
            "    /usr/local/lib/python3.7/dist-packages/mpl_toolkits/axes_grid1/*\n",
            "    /usr/local/lib/python3.7/dist-packages/mpl_toolkits/axisartist/*\n",
            "    /usr/local/lib/python3.7/dist-packages/mpl_toolkits/mplot3d/*\n",
            "    /usr/local/lib/python3.7/dist-packages/mpl_toolkits/tests/*\n",
            "    /usr/local/lib/python3.7/dist-packages/pylab.py\n",
            "Proceed (y/n)? y\n",
            "  Successfully uninstalled matplotlib-3.4.2\n",
            "\u001b[33mWARNING: Running pip as root will break packages and permissions. You should install packages reliably by using venv: https://pip.pypa.io/warnings/venv\u001b[0m\n",
            "Collecting matplotlib==3.1.3\n",
            "  Downloading matplotlib-3.1.3-cp37-cp37m-manylinux1_x86_64.whl (13.1 MB)\n",
            "\u001b[K     |████████████████████████████████| 13.1 MB 1.6 MB/s \n",
            "\u001b[?25hRequirement already satisfied: cycler>=0.10 in /usr/local/lib/python3.7/dist-packages (from matplotlib==3.1.3) (0.10.0)\n",
            "Requirement already satisfied: kiwisolver>=1.0.1 in /usr/local/lib/python3.7/dist-packages (from matplotlib==3.1.3) (1.3.1)\n",
            "Requirement already satisfied: numpy>=1.11 in /usr/local/lib/python3.7/dist-packages (from matplotlib==3.1.3) (1.20.3)\n",
            "Requirement already satisfied: python-dateutil>=2.1 in /usr/local/lib/python3.7/dist-packages (from matplotlib==3.1.3) (2.8.1)\n",
            "Requirement already satisfied: pyparsing!=2.0.4,!=2.1.2,!=2.1.6,>=2.0.1 in /usr/local/lib/python3.7/dist-packages (from matplotlib==3.1.3) (2.4.7)\n",
            "Requirement already satisfied: six in /usr/local/lib/python3.7/dist-packages (from cycler>=0.10->matplotlib==3.1.3) (1.15.0)\n",
            "Installing collected packages: matplotlib\n",
            "\u001b[31mERROR: pip's dependency resolver does not currently take into account all the packages that are installed. This behaviour is the source of the following dependency conflicts.\n",
            "albumentations 0.1.12 requires imgaug<0.2.7,>=0.2.5, but you have imgaug 0.2.9 which is incompatible.\u001b[0m\n",
            "Successfully installed matplotlib-3.1.3\n",
            "\u001b[33mWARNING: Running pip as root will break packages and permissions. You should install packages reliably by using venv: https://pip.pypa.io/warnings/venv\u001b[0m\n"
          ],
          "name": "stdout"
        },
        {
          "output_type": "display_data",
          "data": {
            "application/vnd.colab-display-data+json": {
              "pip_warning": {
                "packages": [
                  "matplotlib",
                  "mpl_toolkits"
                ]
              }
            }
          },
          "metadata": {
            "tags": []
          }
        }
      ]
    },
    {
      "cell_type": "code",
      "metadata": {
        "id": "HGDOzfXRtav4"
      },
      "source": [
        "import matplotlib.pyplot as plt\n",
        "import numpy as np\n",
        "import tempfile\n",
        "import seaborn as sns\n",
        "sns.set(style=\"darkgrid\")\n",
        "\n",
        "from banditpylib.bandits import LinearBandit, OrdinaryBandit\n",
        "from banditpylib.arms import GaussianArm\n",
        "from banditpylib.protocols import SinglePlayerProtocol, trial_data_messages_to_dict\n",
        "from banditpylib.learners.linear_bandit_learner import LinUCB\n",
        "from banditpylib.learners.ordinary_learner import UCB"
      ],
      "execution_count": 1,
      "outputs": []
    },
    {
      "cell_type": "code",
      "metadata": {
        "id": "hEeg9MS3uWmT"
      },
      "source": [
        "num_arms = 100\n",
        "horizon = 2000\n",
        "delta = 1/horizon\n",
        "lambda_reg = 1e-3"
      ],
      "execution_count": 2,
      "outputs": []
    },
    {
      "cell_type": "code",
      "metadata": {
        "id": "NNorEU6Cul2U"
      },
      "source": [
        "features = [np.random.normal(0, size=5) for _ in range(num_arms)]\n",
        "for i in range(len(features)):\n",
        "  features[i] = features[i] / np.linalg.norm(features[i])\n",
        "\n",
        "theta = np.random.normal(0, size=5)\n",
        "arm_means = [feature@theta for feature in features]\n",
        "arms = [GaussianArm(mean, var=1) for mean in arm_means]"
      ],
      "execution_count": 3,
      "outputs": []
    },
    {
      "cell_type": "code",
      "metadata": {
        "id": "d8AHoSwTxCOl"
      },
      "source": [
        "bandit1 = LinearBandit(features, theta)\n",
        "bandit2 = OrdinaryBandit(arms=arms)\n",
        "learners1 = [LinUCB(features, delta, lambda_reg)]\n",
        "learners2 = [UCB(num_arms)]"
      ],
      "execution_count": 4,
      "outputs": []
    },
    {
      "cell_type": "code",
      "metadata": {
        "id": "DshtU4B-xyUg"
      },
      "source": [
        "intermediate_regrets = list(range(0, horizon+1, 50))\n",
        "temp_file1 = tempfile.NamedTemporaryFile()\n",
        "temp_file2 = tempfile.NamedTemporaryFile()"
      ],
      "execution_count": 5,
      "outputs": []
    },
    {
      "cell_type": "code",
      "metadata": {
        "id": "jkYe4BeCx1zV"
      },
      "source": [
        "game1 = SinglePlayerProtocol(bandit1, learners1,\n",
        "                             intermediate_regrets=intermediate_regrets, horizon=horizon)\n",
        "game2 = SinglePlayerProtocol(bandit2, learners2,\n",
        "                             intermediate_regrets=intermediate_regrets, horizon=horizon)"
      ],
      "execution_count": 7,
      "outputs": []
    },
    {
      "cell_type": "code",
      "metadata": {
        "id": "xYrdAnGlx_2v"
      },
      "source": [
        "game1.play(trials=200, output_filename=temp_file1.name)\n",
        "game2.play(trials=200, output_filename=temp_file2.name)"
      ],
      "execution_count": 8,
      "outputs": []
    },
    {
      "cell_type": "code",
      "metadata": {
        "id": "O26X5G-ayO8n"
      },
      "source": [
        "data_df1 = trial_data_messages_to_dict(temp_file1.name)\n",
        "data_df2 = trial_data_messages_to_dict(temp_file2.name)"
      ],
      "execution_count": 9,
      "outputs": []
    },
    {
      "cell_type": "code",
      "metadata": {
        "id": "A6ILUF8vzY7q"
      },
      "source": [
        "import pandas as pd\n",
        "data_df = pd.concat([data_df1, data_df2])"
      ],
      "execution_count": 10,
      "outputs": []
    },
    {
      "cell_type": "code",
      "metadata": {
        "colab": {
          "base_uri": "https://localhost:8080/",
          "height": 285
        },
        "id": "JYsG0GdXyYiU",
        "outputId": "1bc59c3a-f016-47b5-ed2c-0949ee7326b9"
      },
      "source": [
        "sns.lineplot(x='total_actions', y='regret', hue='learner', data=data_df)\n",
        "plt.show()"
      ],
      "execution_count": 11,
      "outputs": [
        {
          "output_type": "display_data",
          "data": {
            "image/png": "[encoded data removed]",
            "text/plain": [
              "<Figure size 432x288 with 1 Axes>"
            ]
          },
          "metadata": {
            "tags": [],
            "needs_background": "light"
          }
        }
      ]
    },
    {
      "cell_type": "code",
      "metadata": {
        "id": "8AysyaLFzU6A"
      },
      "source": [
        ""
      ],
      "execution_count": null,
      "outputs": []
    }
  ]
}